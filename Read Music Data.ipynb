{
 "cells": [
  {
   "cell_type": "code",
   "execution_count": 1,
   "id": "8a392083",
   "metadata": {},
   "outputs": [],
   "source": [
    "import pandas as pd\n",
    "from sqlalchemy import create_engine"
   ]
  },
  {
   "cell_type": "code",
   "execution_count": 2,
   "id": "bae3a8d7",
   "metadata": {},
   "outputs": [],
   "source": [
    "# Read CSV files to pandas dataframe\n",
    "df = pd.read_csv('music.csv')"
   ]
  },
  {
   "cell_type": "code",
   "execution_count": 8,
   "id": "deb93feb",
   "metadata": {},
   "outputs": [
    {
     "data": {
      "text/plain": [
       "<bound method NDFrame.head of        Unnamed: 0           artist_name                     track_name  \\\n",
       "0               0                mukesh           mohabbat bhi jhoothi   \n",
       "1               4         frankie laine                      i believe   \n",
       "2               6           johnnie ray                            cry   \n",
       "3              10           pérez prado                       patricia   \n",
       "4              12  giorgos papadopoulos             apopse eida oneiro   \n",
       "...           ...                   ...                            ...   \n",
       "28367       82447               mack 10                10 million ways   \n",
       "28368       82448                m.o.p.  ante up (robbin hoodz theory)   \n",
       "28369       82449                  nine                  whutcha want?   \n",
       "28370       82450            will smith                         switch   \n",
       "28371       82451                 jeezy                         r.i.p.   \n",
       "\n",
       "       release_date    genre  \\\n",
       "0              1950      pop   \n",
       "1              1950      pop   \n",
       "2              1950      pop   \n",
       "3              1950      pop   \n",
       "4              1950      pop   \n",
       "...             ...      ...   \n",
       "28367          2019  hip hop   \n",
       "28368          2019  hip hop   \n",
       "28369          2019  hip hop   \n",
       "28370          2019  hip hop   \n",
       "28371          2019  hip hop   \n",
       "\n",
       "                                                  lyrics  len    dating  \\\n",
       "0      hold time feel break feel untrue convince spea...   95  0.000598   \n",
       "1      believe drop rain fall grow believe darkest ni...   51  0.035537   \n",
       "2      sweetheart send letter goodbye secret feel bet...   24  0.002770   \n",
       "3      kiss lips want stroll charm mambo chacha merin...   54  0.048249   \n",
       "4      till darling till matter know till dream live ...   48  0.001350   \n",
       "...                                                  ...  ...       ...   \n",
       "28367  cause fuck leave scar tick tock clock come kno...   78  0.001350   \n",
       "28368  minks things chain ring braclets yap fame come...   67  0.001284   \n",
       "28369  get ban get ban stick crack relax plan attack ...   77  0.001504   \n",
       "28370  check check yeah yeah hear thing call switch g...   67  0.001196   \n",
       "28371  remix killer alive remix thriller trap bitch s...   83  0.001012   \n",
       "\n",
       "       violence  world/life  ...   sadness  feelings  danceability  loudness  \\\n",
       "0      0.063746    0.000598  ...  0.380299  0.117175      0.357739  0.454119   \n",
       "1      0.096777    0.443435  ...  0.001284  0.001284      0.331745  0.647540   \n",
       "2      0.002770    0.002770  ...  0.002770  0.225422      0.456298  0.585288   \n",
       "3      0.001548    0.001548  ...  0.225889  0.001548      0.686992  0.744404   \n",
       "4      0.001350    0.417772  ...  0.068800  0.001350      0.291671  0.646489   \n",
       "...         ...         ...  ...       ...       ...           ...       ...   \n",
       "28367  0.001350    0.001350  ...  0.065664  0.001350      0.889527  0.759711   \n",
       "28368  0.001284    0.035338  ...  0.001284  0.001284      0.662082  0.789580   \n",
       "28369  0.154302    0.168988  ...  0.001504  0.001504      0.663165  0.726970   \n",
       "28370  0.001196    0.001196  ...  0.001196  0.001196      0.883028  0.786888   \n",
       "28371  0.075202    0.001012  ...  0.001012  0.033995      0.828875  0.674794   \n",
       "\n",
       "       acousticness  instrumentalness   valence    energy       topic  \\\n",
       "0          0.997992          0.901822  0.339448  0.137110     sadness   \n",
       "1          0.954819          0.000002  0.325021  0.263240  world/life   \n",
       "2          0.840361          0.000000  0.351814  0.139112       music   \n",
       "3          0.083935          0.199393  0.775350  0.743736    romantic   \n",
       "4          0.975904          0.000246  0.597073  0.394375    romantic   \n",
       "...             ...               ...       ...       ...         ...   \n",
       "28367      0.062549          0.000000  0.751649  0.695686     obscene   \n",
       "28368      0.004607          0.000002  0.922712  0.797791     obscene   \n",
       "28369      0.104417          0.000001  0.838211  0.767761     obscene   \n",
       "28370      0.007027          0.000503  0.508450  0.885882     obscene   \n",
       "28371      0.015862          0.000000  0.475474  0.492477     obscene   \n",
       "\n",
       "            age  \n",
       "0      1.000000  \n",
       "1      1.000000  \n",
       "2      1.000000  \n",
       "3      1.000000  \n",
       "4      1.000000  \n",
       "...         ...  \n",
       "28367  0.014286  \n",
       "28368  0.014286  \n",
       "28369  0.014286  \n",
       "28370  0.014286  \n",
       "28371  0.014286  \n",
       "\n",
       "[28372 rows x 31 columns]>"
      ]
     },
     "execution_count": 8,
     "metadata": {},
     "output_type": "execute_result"
    }
   ],
   "source": [
    "# data characteristics\n",
    "df.head"
   ]
  },
  {
   "cell_type": "code",
   "execution_count": 16,
   "id": "4ff896c5",
   "metadata": {},
   "outputs": [],
   "source": [
    "# the idea here is i want to get id from the csv files\n",
    "# to reset index\n",
    "df1 = df1.reset_index()\n",
    "\n",
    "# set index to 1\n",
    "df1.index += 1 "
   ]
  },
  {
   "cell_type": "code",
   "execution_count": 13,
   "id": "02082ae7",
   "metadata": {},
   "outputs": [],
   "source": [
    "df1 = df1.sample(n=100)"
   ]
  },
  {
   "cell_type": "code",
   "execution_count": 17,
   "id": "404a138a",
   "metadata": {},
   "outputs": [],
   "source": [
    "df1.to_csv('file_name_100.csv', encoding='utf-8', index=True)"
   ]
  },
  {
   "cell_type": "code",
   "execution_count": 14,
   "id": "b69cd6de",
   "metadata": {},
   "outputs": [],
   "source": [
    "del df1[\"Unnamed: 0\"]"
   ]
  },
  {
   "cell_type": "code",
   "execution_count": 15,
   "id": "78c69f90",
   "metadata": {},
   "outputs": [
    {
     "data": {
      "text/html": [
       "<div>\n",
       "<style scoped>\n",
       "    .dataframe tbody tr th:only-of-type {\n",
       "        vertical-align: middle;\n",
       "    }\n",
       "\n",
       "    .dataframe tbody tr th {\n",
       "        vertical-align: top;\n",
       "    }\n",
       "\n",
       "    .dataframe thead th {\n",
       "        text-align: right;\n",
       "    }\n",
       "</style>\n",
       "<table border=\"1\" class=\"dataframe\">\n",
       "  <thead>\n",
       "    <tr style=\"text-align: right;\">\n",
       "      <th></th>\n",
       "      <th>artist_name</th>\n",
       "      <th>track_name</th>\n",
       "      <th>release_date</th>\n",
       "      <th>genre</th>\n",
       "      <th>lyrics</th>\n",
       "      <th>len</th>\n",
       "      <th>dating</th>\n",
       "      <th>violence</th>\n",
       "      <th>world/life</th>\n",
       "      <th>night/time</th>\n",
       "      <th>...</th>\n",
       "      <th>sadness</th>\n",
       "      <th>feelings</th>\n",
       "      <th>danceability</th>\n",
       "      <th>loudness</th>\n",
       "      <th>acousticness</th>\n",
       "      <th>instrumentalness</th>\n",
       "      <th>valence</th>\n",
       "      <th>energy</th>\n",
       "      <th>topic</th>\n",
       "      <th>age</th>\n",
       "    </tr>\n",
       "  </thead>\n",
       "  <tbody>\n",
       "    <tr>\n",
       "      <th>0</th>\n",
       "      <td>mukesh</td>\n",
       "      <td>mohabbat bhi jhoothi</td>\n",
       "      <td>1950</td>\n",
       "      <td>pop</td>\n",
       "      <td>hold time feel break feel untrue convince spea...</td>\n",
       "      <td>95</td>\n",
       "      <td>0.000598</td>\n",
       "      <td>0.063746</td>\n",
       "      <td>0.000598</td>\n",
       "      <td>0.000598</td>\n",
       "      <td>...</td>\n",
       "      <td>0.380299</td>\n",
       "      <td>0.117175</td>\n",
       "      <td>0.357739</td>\n",
       "      <td>0.454119</td>\n",
       "      <td>0.997992</td>\n",
       "      <td>0.901822</td>\n",
       "      <td>0.339448</td>\n",
       "      <td>0.137110</td>\n",
       "      <td>sadness</td>\n",
       "      <td>1.0</td>\n",
       "    </tr>\n",
       "    <tr>\n",
       "      <th>1</th>\n",
       "      <td>frankie laine</td>\n",
       "      <td>i believe</td>\n",
       "      <td>1950</td>\n",
       "      <td>pop</td>\n",
       "      <td>believe drop rain fall grow believe darkest ni...</td>\n",
       "      <td>51</td>\n",
       "      <td>0.035537</td>\n",
       "      <td>0.096777</td>\n",
       "      <td>0.443435</td>\n",
       "      <td>0.001284</td>\n",
       "      <td>...</td>\n",
       "      <td>0.001284</td>\n",
       "      <td>0.001284</td>\n",
       "      <td>0.331745</td>\n",
       "      <td>0.647540</td>\n",
       "      <td>0.954819</td>\n",
       "      <td>0.000002</td>\n",
       "      <td>0.325021</td>\n",
       "      <td>0.263240</td>\n",
       "      <td>world/life</td>\n",
       "      <td>1.0</td>\n",
       "    </tr>\n",
       "    <tr>\n",
       "      <th>2</th>\n",
       "      <td>johnnie ray</td>\n",
       "      <td>cry</td>\n",
       "      <td>1950</td>\n",
       "      <td>pop</td>\n",
       "      <td>sweetheart send letter goodbye secret feel bet...</td>\n",
       "      <td>24</td>\n",
       "      <td>0.002770</td>\n",
       "      <td>0.002770</td>\n",
       "      <td>0.002770</td>\n",
       "      <td>0.002770</td>\n",
       "      <td>...</td>\n",
       "      <td>0.002770</td>\n",
       "      <td>0.225422</td>\n",
       "      <td>0.456298</td>\n",
       "      <td>0.585288</td>\n",
       "      <td>0.840361</td>\n",
       "      <td>0.000000</td>\n",
       "      <td>0.351814</td>\n",
       "      <td>0.139112</td>\n",
       "      <td>music</td>\n",
       "      <td>1.0</td>\n",
       "    </tr>\n",
       "    <tr>\n",
       "      <th>3</th>\n",
       "      <td>pérez prado</td>\n",
       "      <td>patricia</td>\n",
       "      <td>1950</td>\n",
       "      <td>pop</td>\n",
       "      <td>kiss lips want stroll charm mambo chacha merin...</td>\n",
       "      <td>54</td>\n",
       "      <td>0.048249</td>\n",
       "      <td>0.001548</td>\n",
       "      <td>0.001548</td>\n",
       "      <td>0.001548</td>\n",
       "      <td>...</td>\n",
       "      <td>0.225889</td>\n",
       "      <td>0.001548</td>\n",
       "      <td>0.686992</td>\n",
       "      <td>0.744404</td>\n",
       "      <td>0.083935</td>\n",
       "      <td>0.199393</td>\n",
       "      <td>0.775350</td>\n",
       "      <td>0.743736</td>\n",
       "      <td>romantic</td>\n",
       "      <td>1.0</td>\n",
       "    </tr>\n",
       "  </tbody>\n",
       "</table>\n",
       "<p>4 rows × 30 columns</p>\n",
       "</div>"
      ],
      "text/plain": [
       "     artist_name            track_name  release_date genre  \\\n",
       "0         mukesh  mohabbat bhi jhoothi          1950   pop   \n",
       "1  frankie laine             i believe          1950   pop   \n",
       "2    johnnie ray                   cry          1950   pop   \n",
       "3    pérez prado              patricia          1950   pop   \n",
       "\n",
       "                                              lyrics  len    dating  violence  \\\n",
       "0  hold time feel break feel untrue convince spea...   95  0.000598  0.063746   \n",
       "1  believe drop rain fall grow believe darkest ni...   51  0.035537  0.096777   \n",
       "2  sweetheart send letter goodbye secret feel bet...   24  0.002770  0.002770   \n",
       "3  kiss lips want stroll charm mambo chacha merin...   54  0.048249  0.001548   \n",
       "\n",
       "   world/life  night/time  ...   sadness  feelings  danceability  loudness  \\\n",
       "0    0.000598    0.000598  ...  0.380299  0.117175      0.357739  0.454119   \n",
       "1    0.443435    0.001284  ...  0.001284  0.001284      0.331745  0.647540   \n",
       "2    0.002770    0.002770  ...  0.002770  0.225422      0.456298  0.585288   \n",
       "3    0.001548    0.001548  ...  0.225889  0.001548      0.686992  0.744404   \n",
       "\n",
       "   acousticness  instrumentalness   valence    energy       topic  age  \n",
       "0      0.997992          0.901822  0.339448  0.137110     sadness  1.0  \n",
       "1      0.954819          0.000002  0.325021  0.263240  world/life  1.0  \n",
       "2      0.840361          0.000000  0.351814  0.139112       music  1.0  \n",
       "3      0.083935          0.199393  0.775350  0.743736    romantic  1.0  \n",
       "\n",
       "[4 rows x 30 columns]"
      ]
     },
     "execution_count": 15,
     "metadata": {},
     "output_type": "execute_result"
    }
   ],
   "source": [
    "df1"
   ]
  },
  {
   "cell_type": "code",
   "execution_count": 26,
   "id": "376adfd9",
   "metadata": {},
   "outputs": [],
   "source": [
    "df2 = df.sample(n=1000)"
   ]
  },
  {
   "cell_type": "code",
   "execution_count": 28,
   "id": "9815452b",
   "metadata": {},
   "outputs": [],
   "source": [
    "df3 = df2.reset_index()"
   ]
  },
  {
   "cell_type": "code",
   "execution_count": 35,
   "id": "b46d308e",
   "metadata": {},
   "outputs": [],
   "source": [
    "# del df3[\"Unnamed: 0\"]\n",
    "del df3[\"index\"]"
   ]
  },
  {
   "cell_type": "code",
   "execution_count": 38,
   "id": "b90accf3",
   "metadata": {},
   "outputs": [],
   "source": [
    "df4 = df3.sample(10)"
   ]
  },
  {
   "cell_type": "code",
   "execution_count": 40,
   "id": "57e7c52f",
   "metadata": {},
   "outputs": [],
   "source": [
    "df4 = df4.reset_index()"
   ]
  },
  {
   "cell_type": "code",
   "execution_count": 46,
   "id": "21509289",
   "metadata": {},
   "outputs": [],
   "source": [
    "df4.to_csv('file_name_10.csv', encoding='utf-8', index=True)"
   ]
  },
  {
   "cell_type": "code",
   "execution_count": 44,
   "id": "2b20be1e",
   "metadata": {},
   "outputs": [],
   "source": [
    "df4.index += 1 "
   ]
  }
 ],
 "metadata": {
  "kernelspec": {
   "display_name": "Python 3.9.7 ('base')",
   "language": "python",
   "name": "python3"
  },
  "language_info": {
   "codemirror_mode": {
    "name": "ipython",
    "version": 3
   },
   "file_extension": ".py",
   "mimetype": "text/x-python",
   "name": "python",
   "nbconvert_exporter": "python",
   "pygments_lexer": "ipython3",
   "version": "3.9.7"
  },
  "vscode": {
   "interpreter": {
    "hash": "1f485dd6ab6440e086275f926cc548abd829e6fee0007e6bdf0d151c85e4dcb5"
   }
  }
 },
 "nbformat": 4,
 "nbformat_minor": 5
}
